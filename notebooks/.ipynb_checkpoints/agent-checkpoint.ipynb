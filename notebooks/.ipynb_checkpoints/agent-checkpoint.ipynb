{
 "cells": [
  {
   "cell_type": "code",
   "execution_count": 334,
   "id": "90765d0f-019a-440a-ae4c-ae2b6501f3e6",
   "metadata": {},
   "outputs": [],
   "source": [
    "import gym\n",
    "import matplotlib.pyplot as plt\n",
    "import pprint\n",
    "import numpy as np\n",
    "import random\n",
    "from tqdm import tqdm"
   ]
  },
  {
   "cell_type": "code",
   "execution_count": 335,
   "id": "8f0ec437-db3a-424d-844b-b6de44f25810",
   "metadata": {},
   "outputs": [],
   "source": [
    "np.set_printoptions(suppress=True)\n"
   ]
  },
  {
   "cell_type": "code",
   "execution_count": 336,
   "id": "0b3f716c-e191-4312-9ff0-3dd62e2eea34",
   "metadata": {},
   "outputs": [],
   "source": [
    "env = gym.make('FrozenLakeNotSlippery-v0', is_slippery=False)\n",
    "# number_of_states = "
   ]
  },
  {
   "cell_type": "code",
   "execution_count": 359,
   "id": "9e2c1548-98bf-428f-9bc2-2e9e0be408c5",
   "metadata": {},
   "outputs": [],
   "source": [
    "class Agent:\n",
    "    def __init__(self, n_states, n_actions, gamma=1, alpha=0.1, epsilon=0, kappa=0.001):\n",
    "        self.number_of_states = n_states\n",
    "        self.number_of_actions = n_actions\n",
    "        self.seed = 1\n",
    "        self.average = 30\n",
    "        self.q_values = np.zeros([n_states, n_actions])\n",
    "        self.tau = np.zeros([n_states, n_actions])\n",
    "        self.gamma = gamma\n",
    "        self.alpha = alpha\n",
    "        self.epsilon = epsilon\n",
    "        self.steps = []\n",
    "        self.rewards = []\n",
    "        \n",
    "    def summary(self):\n",
    "        print(f'Number of states: {self.number_of_states}')\n",
    "        print(f'Number of actions: {self.number_of_actions}')\n",
    "        print(f'Gamma value: {self.gamma}')\n",
    "        print(f'Alpha value or step size: {self.alpha}')\n",
    "        print(f'Epsilon or exploration probability: {self.epsilon * 100} %')\n",
    "    \n",
    "    def policy(self, state):\n",
    "        # random.seed(self.seed)\n",
    "        if random.random() > self.epsilon:\n",
    "            action = self.argmax(self.q_values[state, :])\n",
    "        else:\n",
    "            # print(self.number_of_actions)\n",
    "            action = random.choice(range(self.number_of_actions))\n",
    "        return action\n",
    "\n",
    "    def argmax(self, q_values):\n",
    "        \"\"\"argmax with random tie-breaking\n",
    "        Args:\n",
    "            q_values (Numpy array): the array of action values\n",
    "        Returns:\n",
    "            action (int): an action with the highest value\n",
    "        \"\"\"\n",
    "        # random.seed(self.seed)\n",
    "        top = float(\"-inf\")\n",
    "        ties = []\n",
    "\n",
    "        for i in range(len(q_values)):\n",
    "            if q_values[i] > top:\n",
    "                top = q_values[i]\n",
    "                ties = []\n",
    "\n",
    "            if q_values[i] == top:\n",
    "                ties.append(i)\n",
    "\n",
    "        return random.choice(ties)\n",
    "    \n",
    "    def update(self, state, action, reward, new_state):\n",
    "        q_sa = self.q_values[state, action]\n",
    "        gamma = self.gamma\n",
    "        alpha = self.alpha\n",
    "        q_sa_max = max(self.q_values[new_state, :])\n",
    "        q_sa = q_sa + alpha * (reward + gamma * q_sa_max - q_sa)\n",
    "        self.q_values[state, action] = q_sa\n",
    "        \n",
    "    def run(self, episodes):\n",
    "        list_of_steps = []\n",
    "        list_of_rewards = []\n",
    "        for i in tqdm(range(self.average)):\n",
    "            steps = []\n",
    "            rewards = []\n",
    "            # self.seed = i\n",
    "            for __ in range(episodes):\n",
    "                state = env.reset()\n",
    "                done = False\n",
    "\n",
    "                # check if the terminal state is achieved\n",
    "                step = 0\n",
    "                while not done:\n",
    "                    action = self.policy(state)\n",
    "                    self.tau[state, action] += 1\n",
    "                    new_state, reward, done, info = env.step(action)\n",
    "\n",
    "                    self.update(state, action, reward, new_state)\n",
    "                    step += 1\n",
    "\n",
    "                    state = new_state\n",
    "                steps.append(step)\n",
    "                rewards.append(reward)\n",
    "            list_of_steps.append(steps)\n",
    "            list_of_rewards.append(rewards)\n",
    "        self.steps = np.mean(list_of_steps, 0)\n",
    "        self.rewards = np.mean(list_of_rewards, 0)\n",
    "        \n",
    "    def results(self):\n",
    "        fig, axis = plt.subplots(2, 1)\n",
    "        axis[0].plot(agent_1.steps)\n",
    "        axis[1].plot(agent_1.rewards)\n",
    "        print(f'average rewards: {np.mean(agent_1.rewards)}')\n",
    "        print(f'average last 100 rewards: {np.mean(agent_1.rewards[-100:])}')\n",
    "        \n",
    "        print(f'average steps: {np.mean(agent_1.steps)}')\n",
    "        print(f'average steps 100 rewards: {np.mean(agent_1.steps[-100:])}')\n",
    "                \n",
    "                "
   ]
  },
  {
   "cell_type": "code",
   "execution_count": 362,
   "id": "c2f3f9f5-4ae5-40d9-b095-ee0f9c440482",
   "metadata": {},
   "outputs": [
    {
     "name": "stdout",
     "output_type": "stream",
     "text": [
      "Number of states: 16\n",
      "Number of actions: 4\n",
      "Gamma value: 0.9\n",
      "Alpha value or step size: 0.001\n",
      "Epsilon or exploration probability: 0.1 %\n"
     ]
    },
    {
     "name": "stderr",
     "output_type": "stream",
     "text": [
      "100%|██████████████████████████████████████████████████████████████████████████████████| 30/30 [00:05<00:00,  5.37it/s]"
     ]
    },
    {
     "name": "stdout",
     "output_type": "stream",
     "text": [
      "average rewards: 0.9940333333333333\n",
      "average last 100 rewards: 0.9983333333333334\n",
      "average steps: 6.009133333333333\n",
      "average steps 100 rewards: 6.001\n"
     ]
    },
    {
     "name": "stderr",
     "output_type": "stream",
     "text": [
      "\n"
     ]
    },
    {
     "data": {
      "text/plain": [
       "array([[0.00361563, 0.59048998, 0.00000467, 0.00207251],\n",
       "       [0.002623  , 0.        , 0.        , 0.        ],\n",
       "       [0.        , 0.        , 0.        , 0.        ],\n",
       "       [0.        , 0.        , 0.        , 0.        ],\n",
       "       [0.00447236, 0.6561    , 0.        , 0.00554073],\n",
       "       [0.        , 0.        , 0.        , 0.        ],\n",
       "       [0.        , 0.        , 0.        , 0.        ],\n",
       "       [0.        , 0.        , 0.        , 0.        ],\n",
       "       [0.00591552, 0.        , 0.729     , 0.00409516],\n",
       "       [0.00513541, 0.81      , 0.00000649, 0.        ],\n",
       "       [0.        , 0.00718186, 0.        , 0.        ],\n",
       "       [0.        , 0.        , 0.        , 0.        ],\n",
       "       [0.        , 0.        , 0.        , 0.        ],\n",
       "       [0.        , 0.00277372, 0.9       , 0.00533751],\n",
       "       [0.0048949 , 0.00867322, 1.        , 0.00001617],\n",
       "       [0.        , 0.        , 0.        , 0.        ]])"
      ]
     },
     "execution_count": 362,
     "metadata": {},
     "output_type": "execute_result"
    },
    {
     "data": {
      "image/png": "[encoded data removed]",
      "text/plain": [
       "<Figure size 640x480 with 2 Axes>"
      ]
     },
     "metadata": {},
     "output_type": "display_data"
    }
   ],
   "source": [
    "agent_1 = Agent(env.observation_space.n, env.action_space.n, alpha=0.001, gamma=0.9, epsilon=0.001)\n",
    "agent_1.summary()\n",
    "agent_1.run(1000)\n",
    "agent_1.results()\n",
    "agent_1.q_values"
   ]
  },
  {
   "cell_type": "code",
   "execution_count": 352,
   "id": "80e2b3e8-1821-4fe9-a9b9-912cbce12951",
   "metadata": {},
   "outputs": [
    {
     "ename": "TypeError",
     "evalue": "Random.random() takes no keyword arguments",
     "output_type": "error",
     "traceback": [
      "\u001b[1;31m---------------------------------------------------------------------------\u001b[0m",
      "\u001b[1;31mTypeError\u001b[0m                                 Traceback (most recent call last)",
      "Cell \u001b[1;32mIn [354], line 1\u001b[0m\n\u001b[1;32m----> 1\u001b[0m \u001b[43mrandom\u001b[49m\u001b[38;5;241;43m.\u001b[39;49m\u001b[43mrandom\u001b[49m\u001b[43m(\u001b[49m\u001b[43mseed\u001b[49m\u001b[38;5;241;43m=\u001b[39;49m\u001b[38;5;241;43m3\u001b[39;49m\u001b[43m)\u001b[49m\n\u001b[0;32m      2\u001b[0m random\u001b[38;5;241m.\u001b[39mrandom()\n",
      "\u001b[1;31mTypeError\u001b[0m: Random.random() takes no keyword arguments"
     ]
    }
   ],
   "source": [
    "random(seed=3\n",
    "random.random()"
   ]
  },
  {
   "cell_type": "code",
   "execution_count": 342,
   "id": "24bc939b-03d8-49e8-92bc-c13fb2fb692f",
   "metadata": {},
   "outputs": [
    {
     "data": {
      "text/plain": [
       "array([1., 2., 3., 4., 5., 6.])"
      ]
     },
     "execution_count": 342,
     "metadata": {},
     "output_type": "execute_result"
    }
   ],
   "source": [
    "a = [[1, 2, 3, 4, 5, 6],\n",
    "     [1, 2, 3, 4, 5, 6]]\n",
    "\n",
    "np.mean(a, 0)"
   ]
  },
  {
   "cell_type": "code",
   "execution_count": null,
   "id": "2b430a9d-fc93-421e-b90d-d085f15779cf",
   "metadata": {},
   "outputs": [],
   "source": []
  }
 ],
 "metadata": {
  "kernelspec": {
   "display_name": "Python 3 (ipykernel)",
   "language": "python",
   "name": "python3"
  },
  "language_info": {
   "codemirror_mode": {
    "name": "ipython",
    "version": 3
   },
   "file_extension": ".py",
   "mimetype": "text/x-python",
   "name": "python",
   "nbconvert_exporter": "python",
   "pygments_lexer": "ipython3",
   "version": "3.10.4"
  }
 },
 "nbformat": 4,
 "nbformat_minor": 5
}
