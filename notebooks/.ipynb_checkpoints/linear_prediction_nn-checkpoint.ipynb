{
 "cells": [
  {
   "cell_type": "code",
   "execution_count": null,
   "id": "229e3217-86c9-45ea-8e6c-0a813b2f98b1",
   "metadata": {},
   "outputs": [],
   "source": [
    "import torch\n",
    "import torch.nn as nn\n",
    "import torch.optim as optim\n",
    "import gym\n",
    "import matplotlib.pyplot as plt\n",
    "import math\n",
    "from tqdm import tqdm"
   ]
  },
  {
   "cell_type": "code",
   "execution_count": null,
   "id": "edb2b499-7007-4001-8cec-47d724d40df9",
   "metadata": {},
   "outputs": [],
   "source": [
    "use_cuda = torch.cuda.is_available()\n",
    "device = torch.device('cuda:0' if use_cuda else 'cpu')\n",
    "env = gym.make('CartPole-v1')\n"
   ]
  },
  {
   "cell_type": "code",
   "execution_count": null,
   "id": "9c56cef1-6605-4e97-900a-f5b19d914c6f",
   "metadata": {},
   "outputs": [],
   "source": [
    "########### PARAMS ###########\n",
    "learning_rate = 0.01\n",
    "num_episodes = 1000\n",
    "gamma = 0.99"
   ]
  },
  {
   "cell_type": "code",
   "execution_count": null,
   "id": "0138a193-fc5a-44d4-80c0-e059ed64ede3",
   "metadata": {},
   "outputs": [],
   "source": [
    "egreedy = 0.7\n",
    "egreedy_final = 0.01\n",
    "egreedy_decay = 500\n",
    "\n",
    "egreedy_prev = egreedy\n",
    "egreedy_prev_final = egreedy_final\n",
    "egreedy_prev_decay = 0.999\n",
    "\n",
    "def calculate_epsilon(steps_done):\n",
    "    epsilon = egreedy_final + (egreedy - egreedy_final) * \\\n",
    "              math.exp(-1. * steps_done / egreedy_decay)\n",
    "    return epsilon\n",
    "egreedy_total = []\n",
    "egreedy_prev_total = []\n",
    "steps_total = []"
   ]
  },
  {
   "cell_type": "code",
   "execution_count": 7,
   "id": "a3fc6e08-e2f4-4e86-ab73-259960185056",
   "metadata": {},
   "outputs": [],
   "source": [
    "number_of_inputs = env.observation_space.shape[0]\n",
    "number_of_outputs = env.action_space.n\n",
    "\n",
    "class NeuralNetwork(nn.Module):\n",
    "    def __init__(self):\n",
    "        super(NeuralNetwork, self).__init__()\n",
    "        self.linear1 = nn.Linear(number_of_inputs, number_of_outputs)\n",
    "    \n",
    "    def forward(self, x):\n",
    "        output = self.linear1(x)\n",
    "        return output\n",
    "\n",
    "class QNet_Agent():\n",
    "    def __init__(self):\n",
    "        self.nn = NeuralNetwork().to(device)\n",
    "        \n",
    "        # Define loss function\n",
    "        self.loss_func = nn.MSELoss()\n",
    "        # loss_func = nn.SmoothL1Loss()\n",
    "\n",
    "        # Define optimizer\n",
    "        self.optimizer = optim.Adam(params=self.nn.parameters(), lr=learning_rate)\n",
    "        \n",
    "    def select_action(self, state, epsilon):\n",
    "        random_for_egreedy = torch.rand(1)[0]\n",
    "        \n",
    "        if random_for_egreedy > epsilon:\n",
    "            with torch.no_grad():\n",
    "                state = torch.Tensor(state).to(device)\n",
    "                action_from_nn = self.nn(state)\n",
    "                action = torch.max(action_from_nn, 0)[1]\n",
    "                action = action.item()\n",
    "        else:\n",
    "            action = env.action_space.sample()\n",
    "        return action\n",
    "    \n",
    "    def optimize(self, state, action, new_state, reward, done):\n",
    "        state = torch.Tensor(state).to(device)\n",
    "        new_state = torch.Tensor(new_state).to(device)\n",
    "        reward = torch.Tensor([reward]).to(device)\n",
    "        if done:\n",
    "            target_value = reward\n",
    "        else:\n",
    "            new_state_values = self.nn(new_state).detach()\n",
    "            max_new_state_values = torch.max(new_state_values)\n",
    "            target_value = reward + gamma * max_new_state_values\n",
    "        predicted_value = self.nn(state)[action]\n",
    "\n",
    "        print(predicted_value, target_value.unsqueeze(1))\n",
    "        print(predicted_value.shape, target_value.shape)\n",
    "        loss = self.loss_func(predicted_value, target_value)\n",
    "        self.optimizer.zero_grad()\n",
    "        loss.backward()\n",
    "        self.optimizer.step()"
   ]
  },
  {
   "cell_type": "code",
   "execution_count": 8,
   "id": "5c839991-4671-4376-9650-d6bf74d9f2a7",
   "metadata": {},
   "outputs": [
    {
     "name": "stderr",
     "output_type": "stream",
     "text": [
      "  0%|                                                                                         | 0/1000 [00:00<?, ?it/s]C:\\Users\\atavares\\Anaconda3\\envs\\RL\\lib\\site-packages\\torch\\nn\\modules\\loss.py:530: UserWarning: Using a target size (torch.Size([1])) that is different to the input size (torch.Size([])). This will likely lead to incorrect results due to broadcasting. Please ensure they have the same size.\n",
      "  return F.mse_loss(input, target, reduction=self.reduction)\n",
      "  0%|                                                                                         | 0/1000 [00:00<?, ?it/s]"
     ]
    },
    {
     "name": "stdout",
     "output_type": "stream",
     "text": [
      "tensor(0.4682, grad_fn=<SelectBackward0>) tensor([[1.3391]])\n",
      "torch.Size([]) torch.Size([1])\n",
      "tensor(-0.4439, grad_fn=<SelectBackward0>) tensor([[1.4823]])\n",
      "torch.Size([]) torch.Size([1])\n",
      "tensor(0.4947, grad_fn=<SelectBackward0>) tensor([[1.3631]])\n",
      "torch.Size([]) torch.Size([1])\n",
      "tensor(-0.4299, grad_fn=<SelectBackward0>) tensor([[1.5054]])\n",
      "torch.Size([]) torch.Size([1])\n",
      "tensor(-0.4646, grad_fn=<SelectBackward0>) tensor([[1.6483]])\n",
      "torch.Size([]) torch.Size([1])\n",
      "tensor(0.6617, grad_fn=<SelectBackward0>) tensor([[1.5284]])\n",
      "torch.Size([]) torch.Size([1])\n",
      "tensor(0.5415, grad_fn=<SelectBackward0>) tensor([[1.4063]])\n",
      "torch.Size([]) torch.Size([1])\n",
      "tensor(0.4169, grad_fn=<SelectBackward0>) tensor([[1.2790]])\n",
      "torch.Size([]) torch.Size([1])\n",
      "tensor(0.2907, grad_fn=<SelectBackward0>) tensor([[1.1512]])\n",
      "torch.Size([]) torch.Size([1])\n",
      "tensor(0.1670, grad_fn=<SelectBackward0>) tensor([[1.0268]])\n",
      "torch.Size([]) torch.Size([1])\n",
      "tensor(-0.2178, grad_fn=<SelectBackward0>) tensor([[1.1711]])\n",
      "torch.Size([]) torch.Size([1])\n",
      "tensor(0.1880, grad_fn=<SelectBackward0>) tensor([[1.0471]])\n",
      "torch.Size([]) torch.Size([1])\n",
      "tensor(0.0683, grad_fn=<SelectBackward0>) tensor([[0.9272]])\n",
      "torch.Size([]) torch.Size([1])\n",
      "tensor(-0.0867, grad_fn=<SelectBackward0>) tensor([[1.0576]])\n",
      "torch.Size([]) torch.Size([1])\n",
      "tensor(0.0789, grad_fn=<SelectBackward0>) tensor([[0.9680]])\n",
      "torch.Size([]) torch.Size([1])\n",
      "tensor(-0.0343, grad_fn=<SelectBackward0>) tensor([[1.0781]])\n",
      "torch.Size([]) torch.Size([1])\n",
      "tensor(0.0982, grad_fn=<SelectBackward0>) tensor([[1.0564]])\n",
      "torch.Size([]) torch.Size([1])\n",
      "tensor(0.0794, grad_fn=<SelectBackward0>) tensor([[1.0421]])\n",
      "torch.Size([]) torch.Size([1])\n",
      "tensor(0.0656, grad_fn=<SelectBackward0>) tensor([[1.]])\n",
      "torch.Size([]) torch.Size([1])\n",
      "Episode finished after 19 steps.\n"
     ]
    },
    {
     "name": "stderr",
     "output_type": "stream",
     "text": [
      "\n"
     ]
    },
    {
     "ename": "NameError",
     "evalue": "name 'loss' is not defined",
     "output_type": "error",
     "traceback": [
      "\u001b[1;31m---------------------------------------------------------------------------\u001b[0m",
      "\u001b[1;31mNameError\u001b[0m                                 Traceback (most recent call last)",
      "Cell \u001b[1;32mIn [8], line 29\u001b[0m\n\u001b[0;32m     27\u001b[0m \u001b[38;5;28;01mif\u001b[39;00m i_episode \u001b[38;5;241m%\u001b[39m \u001b[38;5;241m300\u001b[39m \u001b[38;5;241m==\u001b[39m \u001b[38;5;241m0\u001b[39m:\n\u001b[0;32m     28\u001b[0m     \u001b[38;5;28mprint\u001b[39m(\u001b[38;5;124mf\u001b[39m\u001b[38;5;124m'\u001b[39m\u001b[38;5;124mEpisode finished after \u001b[39m\u001b[38;5;132;01m{\u001b[39;00mstep\u001b[38;5;132;01m}\u001b[39;00m\u001b[38;5;124m steps.\u001b[39m\u001b[38;5;124m'\u001b[39m)\n\u001b[1;32m---> 29\u001b[0m     \u001b[38;5;28mprint\u001b[39m(\u001b[38;5;124mf\u001b[39m\u001b[38;5;124m'\u001b[39m\u001b[38;5;124mEpisode \u001b[39m\u001b[38;5;132;01m{\u001b[39;00mi_episode\u001b[38;5;132;01m}\u001b[39;00m\u001b[38;5;124m, loss \u001b[39m\u001b[38;5;132;01m{\u001b[39;00mloss\u001b[38;5;241m.\u001b[39mitem()\u001b[38;5;132;01m}\u001b[39;00m\u001b[38;5;124m'\u001b[39m)\n\u001b[0;32m     30\u001b[0m     \u001b[38;5;28mprint\u001b[39m(\u001b[38;5;124m'\u001b[39m\u001b[38;5;124m#\u001b[39m\u001b[38;5;124m'\u001b[39m \u001b[38;5;241m*\u001b[39m \u001b[38;5;241m70\u001b[39m)\n",
      "\u001b[1;31mNameError\u001b[0m: name 'loss' is not defined"
     ]
    }
   ],
   "source": [
    "qnet_agent = QNet_Agent()\n",
    "step_total = []\n",
    "frames_total = 0\n",
    "\n",
    "for i_episode in tqdm(range(num_episodes)):\n",
    "    state = env.reset()\n",
    "    \n",
    "    step = 0\n",
    "    \n",
    "    while True:\n",
    "        step += 1\n",
    "        frames_total += 1\n",
    "        \n",
    "        epsilon = calculate_epsilon(frames_total)\n",
    "        \n",
    "        action = qnet_agent.select_action(state, epsilon)\n",
    "        \n",
    "        new_state, reward, done, info = env.step(action)\n",
    "        \n",
    "        qnet_agent.optimize(state, action, new_state, reward, done)\n",
    "        \n",
    "        state = new_state\n",
    "        if done:\n",
    "            steps_total.append(step)\n",
    "            break\n",
    "    \n",
    "    if i_episode % 300 == 0:\n",
    "        print(f'Episode finished after {step} steps.')\n",
    "        print(f'Episode {i_episode}, loss {loss.item()}')\n",
    "        print('#' * 70)\n"
   ]
  },
  {
   "cell_type": "code",
   "execution_count": null,
   "id": "01a1e675-d86f-47b5-b353-5c1aab489625",
   "metadata": {},
   "outputs": [],
   "source": []
  },
  {
   "cell_type": "code",
   "execution_count": null,
   "id": "b8c43fc9-a6d2-481f-8042-54e5557a3213",
   "metadata": {},
   "outputs": [],
   "source": [
    "w = 2\n",
    "b = 0.3\n",
    "\n",
    "x = torch.arange(100, dtype=torch.float).to(device).unsqueeze(1)\n",
    "y = w * x + b"
   ]
  },
  {
   "cell_type": "code",
   "execution_count": null,
   "id": "b1ca6235-6ac0-4019-bafd-9977616b4c26",
   "metadata": {},
   "outputs": [],
   "source": []
  },
  {
   "cell_type": "code",
   "execution_count": null,
   "id": "12a2ecfe-8d52-4a66-abd7-60358a005fcc",
   "metadata": {},
   "outputs": [],
   "source": []
  },
  {
   "cell_type": "code",
   "execution_count": null,
   "id": "434b5e30-fe88-4a2d-b6ba-c88a163d0a05",
   "metadata": {},
   "outputs": [],
   "source": []
  },
  {
   "cell_type": "code",
   "execution_count": null,
   "id": "3f4bb6ad-2b1e-42f7-9f2f-414c6d5e324d",
   "metadata": {},
   "outputs": [],
   "source": []
  },
  {
   "cell_type": "code",
   "execution_count": null,
   "id": "122ef341-7511-43f7-a281-3cce6492f888",
   "metadata": {},
   "outputs": [],
   "source": [
    "for i_episode in range(num_episodes):\n",
    "    predicted_value = mynn(x)\n",
    "    \n",
    "    loss = loss_func(predicted_value, y)\n",
    "    \n",
    "    optimizer.zero_grad()\n",
    "    loss.backward()\n",
    "    optimizer.step()\n",
    "    \n",
    "    if i_episode % 50 == 0:\n",
    "        print(f'Episode {i_episode}, loss {loss.item()}')"
   ]
  },
  {
   "cell_type": "code",
   "execution_count": null,
   "id": "dcc44407-03b4-473a-b3e5-844f72b8252f",
   "metadata": {},
   "outputs": [],
   "source": [
    "plt.figure(figsize=(12, 5))\n",
    "plt.plot(x.cpu().numpy().squeeze(), y, color='red')\n",
    "plt.plot(x.cpu().numpy().squeeze(), predicted_value.squeeze().detach().numpy(), color='green')\n"
   ]
  },
  {
   "cell_type": "code",
   "execution_count": null,
   "id": "741b1aac-0324-4791-a52e-074cc76e7381",
   "metadata": {},
   "outputs": [],
   "source": []
  }
 ],
 "metadata": {
  "kernelspec": {
   "display_name": "Python 3 (ipykernel)",
   "language": "python",
   "name": "python3"
  },
  "language_info": {
   "codemirror_mode": {
    "name": "ipython",
    "version": 3
   },
   "file_extension": ".py",
   "mimetype": "text/x-python",
   "name": "python",
   "nbconvert_exporter": "python",
   "pygments_lexer": "ipython3",
   "version": "3.10.4"
  }
 },
 "nbformat": 4,
 "nbformat_minor": 5
}
