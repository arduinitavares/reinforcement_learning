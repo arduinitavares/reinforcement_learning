{
 "cells": [
  {
   "cell_type": "code",
   "execution_count": 1,
   "id": "90765d0f-019a-440a-ae4c-ae2b6501f3e6",
   "metadata": {},
   "outputs": [],
   "source": [
    "import gym\n",
    "import matplotlib.pyplot as plt\n",
    "import pprint\n",
    "import numpy as np\n",
    "import random\n",
    "from tqdm import tqdm\n",
    "import torch"
   ]
  },
  {
   "cell_type": "code",
   "execution_count": 74,
   "id": "8f0ec437-db3a-424d-844b-b6de44f25810",
   "metadata": {},
   "outputs": [],
   "source": [
    "np.set_printoptions(suppress=True)\n",
    "torch.set_printoptions(sci_mode=False)\n",
    "plt.style.use('ggplot')"
   ]
  },
  {
   "cell_type": "code",
   "execution_count": 71,
   "id": "0b3f716c-e191-4312-9ff0-3dd62e2eea34",
   "metadata": {},
   "outputs": [],
   "source": [
    "# try: \n",
    "#     env = gym.make('FrozenLakeNotSlippery-v0', is_slippery=True)\n",
    "# except:\n",
    "#     from gym.envs.registration import register\n",
    "#     register(\n",
    "#         id='FrozenLakeNotSlippery-v0',\n",
    "#         entry_point='gym.envs.toy_text:FrozenLakeEnv')\n",
    "# finally:\n",
    "#     env = gym.make('FrozenLakeNotSlippery-v0', is_slippery=False)\n",
    "\n",
    "env = gym.make('FrozenLake-v1', is_slippery=True)"
   ]
  },
  {
   "cell_type": "code",
   "execution_count": 85,
   "id": "9e2c1548-98bf-428f-9bc2-2e9e0be408c5",
   "metadata": {},
   "outputs": [],
   "source": [
    "class Agent:\n",
    "    def __init__(self, n_states, n_actions, gamma=1, alpha=0.1, epsilon=0, kappa=0.001):\n",
    "        self.number_of_states = n_states\n",
    "        self.number_of_actions = n_actions\n",
    "        self.seed = 1\n",
    "        self.q_values = torch.zeros([n_states, n_actions])\n",
    "        self.tau = torch.zeros([n_states, n_actions])\n",
    "        self.gamma = gamma\n",
    "        self.alpha = alpha\n",
    "        self.epsilon = epsilon\n",
    "        self.steps = []\n",
    "        self.rewards = []\n",
    "        \n",
    "    def summary(self):\n",
    "        print(f'Number of states: {self.number_of_states}')\n",
    "        print(f'Number of actions: {self.number_of_actions}')\n",
    "        print(f'Gamma value: {self.gamma}')\n",
    "        print(f'Alpha value or step size: {self.alpha}')\n",
    "        print(f'Epsilon or exploration probability: {self.epsilon * 100} %')\n",
    "    \n",
    "    def policy(self, state):\n",
    "        # random.seed(self.seed)\n",
    "        random_value =  (torch.rand(1, agent_1.number_of_actions)/1000)[0]\n",
    "        if random.random() > self.epsilon:\n",
    "            action = self.argmax(self.q_values[state, :] + random_value)\n",
    "        else:\n",
    "            # print(self.number_of_actions)\n",
    "            action = random.choice(range(self.number_of_actions))\n",
    "        return action\n",
    "\n",
    "    def argmax(self, q_values):\n",
    "        \"\"\"argmax with random tie-breaking\n",
    "        Args:\n",
    "            q_values (Numpy array): the array of action values\n",
    "        Returns:\n",
    "            action (int): an action with the highest value\n",
    "        \"\"\"\n",
    "        # random.seed(self.seed)\n",
    "        top = float(\"-inf\")\n",
    "        ties = []\n",
    "\n",
    "        for i in range(len(q_values)):\n",
    "            if q_values[i] > top:\n",
    "                top = q_values[i]\n",
    "                ties = []\n",
    "\n",
    "            if q_values[i] == top:\n",
    "                ties.append(i)\n",
    "\n",
    "        return random.choice(ties)\n",
    "    \n",
    "    def update(self, state, action, reward, new_state):\n",
    "        q_sa = self.q_values[state, action]\n",
    "        gamma = self.gamma\n",
    "        alpha = self.alpha\n",
    "        q_sa_max = torch.max(self.q_values[new_state, :])\n",
    "        q_sa = q_sa + alpha * (reward + gamma * q_sa_max - q_sa)\n",
    "        self.q_values[state, action] = q_sa\n",
    "        \n",
    "    def run(self, episodes, avg=30):\n",
    "        list_of_steps = []\n",
    "        list_of_rewards = []\n",
    "        for i in tqdm(range(avg), position=0, leave=True):\n",
    "            steps = []\n",
    "            rewards = []\n",
    "            # self.seed = i\n",
    "            for __ in tqdm(range(episodes), position=0, leave=True):\n",
    "                state = env.reset()\n",
    "                done = False\n",
    "\n",
    "                # check if the terminal state is achieved\n",
    "                step = 0\n",
    "                while not done:\n",
    "                    action = self.policy(state)\n",
    "                    self.tau[state, action] += 1\n",
    "                    new_state, reward, done, info = env.step(action)\n",
    "\n",
    "                    self.update(state, action, reward, new_state)\n",
    "                    step += 1\n",
    "\n",
    "                    state = new_state\n",
    "                steps.append(step)\n",
    "                rewards.append(reward)\n",
    "            list_of_steps.append(steps)\n",
    "            list_of_rewards.append(rewards)\n",
    "        self.steps = torch.mean(torch.tensor(list_of_steps, dtype=torch.float), 0)\n",
    "        self.rewards = torch.mean(torch.tensor(list_of_rewards, dtype=torch.float), 0)\n",
    "        \n",
    "    def results(self):\n",
    "        fig, axis = plt.subplots(2, 1)\n",
    "        axis[0].bar(torch.arange(len(agent_1.rewards)), agent_1.rewards, alpha=0.6, color='green')\n",
    "        axis[0].set_title('rewards')\n",
    "        axis[1].bar(torch.arange(len(agent_1.steps)), agent_1.steps, alpha=0.6, color='red')\n",
    "        axis[1].set_title('steps')\n",
    "        print('#' * 80)\n",
    "        print(f'average rewards: {torch.mean(agent_1.rewards)}')\n",
    "        print(f'average last 100 rewards: {torch.mean(agent_1.rewards[-100:])}')\n",
    "        print('#' * 80)\n",
    "\n",
    "        print(f'average steps: {torch.mean(agent_1.steps)}')\n",
    "        print(f'average steps 100 rewards: {torch.mean(agent_1.steps[-100:])}')\n",
    "        print('#' * 80)\n",
    "\n",
    "                "
   ]
  },
  {
   "cell_type": "code",
   "execution_count": 89,
   "id": "c2f3f9f5-4ae5-40d9-b095-ee0f9c440482",
   "metadata": {},
   "outputs": [
    {
     "name": "stdout",
     "output_type": "stream",
     "text": [
      "Number of states: 16\n",
      "Number of actions: 4\n",
      "Gamma value: 0.95\n",
      "Alpha value or step size: 0.9\n",
      "Epsilon or exploration probability: 0 %\n"
     ]
    },
    {
     "name": "stderr",
     "output_type": "stream",
     "text": [
      "100%|██████████████████████████████████████████████████████████████████████████████| 1000/1000 [00:22<00:00, 44.85it/s]\n",
      "100%|████████████████████████████████████████████████████████████████████████████████████| 1/1 [00:22<00:00, 22.30s/it]\n"
     ]
    },
    {
     "name": "stdout",
     "output_type": "stream",
     "text": [
      "################################################################################\n",
      "average rewards: 0.42899999022483826\n",
      "average last 100 rewards: 0.5199999809265137\n",
      "################################################################################\n",
      "average steps: 48.47800064086914\n",
      "average steps 100 rewards: 59.20000076293945\n",
      "################################################################################\n"
     ]
    },
    {
     "data": {
      "text/plain": [
       "tensor([[    0.0009,     0.0007,     0.0123,     0.0007],\n",
       "        [    0.0001,     0.0000,     0.0000,     0.0112],\n",
       "        [    0.0002,     0.0001,     0.0003,     0.0112],\n",
       "        [    0.0000,     0.0000,     0.0002,     0.0088],\n",
       "        [    0.0167,     0.0000,     0.0000,     0.0005],\n",
       "        [    0.0000,     0.0000,     0.0000,     0.0000],\n",
       "        [    0.0000,     0.0000,     0.0229,     0.0000],\n",
       "        [    0.0000,     0.0000,     0.0000,     0.0000],\n",
       "        [    0.0000,     0.0000,     0.0001,     0.0267],\n",
       "        [    0.0002,     0.1079,     0.0000,     0.0000],\n",
       "        [    0.8595,     0.0000,     0.0000,     0.0000],\n",
       "        [    0.0000,     0.0000,     0.0000,     0.0000],\n",
       "        [    0.0000,     0.0000,     0.0000,     0.0000],\n",
       "        [    0.0000,     0.0001,     0.1187,     0.0000],\n",
       "        [    0.0000,     0.4830,     0.0000,     0.0000],\n",
       "        [    0.0000,     0.0000,     0.0000,     0.0000]])"
      ]
     },
     "execution_count": 89,
     "metadata": {},
     "output_type": "execute_result"
    },
    {
     "data": {
      "image/png": "[encoded data removed]",
      "text/plain": [
       "<Figure size 640x480 with 2 Axes>"
      ]
     },
     "metadata": {},
     "output_type": "display_data"
    }
   ],
   "source": [
    "agent_1 = Agent(env.observation_space.n, env.action_space.n, alpha=0.9, gamma=0.95, epsilon=0)\n",
    "agent_1.summary()\n",
    "agent_1.run(1000, avg=1)\n",
    "agent_1.results()\n",
    "agent_1.q_values"
   ]
  },
  {
   "cell_type": "code",
   "execution_count": 84,
   "id": "8cc166a1-13ec-4603-96fd-9ef037623f5f",
   "metadata": {},
   "outputs": [
    {
     "data": {
      "text/plain": [
       "tensor([0.0006, 0.0010, 0.0008, 0.0004])"
      ]
     },
     "execution_count": 84,
     "metadata": {},
     "output_type": "execute_result"
    }
   ],
   "source": [
    " (torch.rand(1, agent_1.number_of_actions)/1000)[0]"
   ]
  },
  {
   "cell_type": "code",
   "execution_count": null,
   "id": "2fb04ce7-ed09-4286-86b1-a5c323d7ac53",
   "metadata": {},
   "outputs": [],
   "source": []
  }
 ],
 "metadata": {
  "kernelspec": {
   "display_name": "Python 3 (ipykernel)",
   "language": "python",
   "name": "python3"
  },
  "language_info": {
   "codemirror_mode": {
    "name": "ipython",
    "version": 3
   },
   "file_extension": ".py",
   "mimetype": "text/x-python",
   "name": "python",
   "nbconvert_exporter": "python",
   "pygments_lexer": "ipython3",
   "version": "3.10.4"
  }
 },
 "nbformat": 4,
 "nbformat_minor": 5
}
