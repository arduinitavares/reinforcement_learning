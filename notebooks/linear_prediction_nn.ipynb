{
 "cells": [
  {
   "cell_type": "code",
   "execution_count": 1,
   "id": "229e3217-86c9-45ea-8e6c-0a813b2f98b1",
   "metadata": {},
   "outputs": [],
   "source": [
    "import torch\n",
    "import torch.nn as nn\n",
    "import torch.optim as optim\n",
    "import gym\n",
    "import matplotlib.pyplot as plt\n",
    "import math\n",
    "from tqdm import tqdm\n",
    "import time\n",
    "import numpy as np\n",
    "import random"
   ]
  },
  {
   "cell_type": "code",
   "execution_count": 2,
   "id": "edb2b499-7007-4001-8cec-47d724d40df9",
   "metadata": {},
   "outputs": [
    {
     "data": {
      "text/plain": [
       "<torch._C.Generator at 0x134db376f70>"
      ]
     },
     "execution_count": 2,
     "metadata": {},
     "output_type": "execute_result"
    }
   ],
   "source": [
    "use_cuda = torch.cuda.is_available()\n",
    "device = torch.device('cuda:0' if use_cuda else 'cpu')\n",
    "env = gym.make('CartPole-v0')\n",
    "\n",
    "seed_value = 23\n",
    "env.seed(seed_value)\n",
    "torch.manual_seed(seed_value)"
   ]
  },
  {
   "cell_type": "code",
   "execution_count": 3,
   "id": "75ab4e40-bab1-490a-ab0f-f3cd0477069f",
   "metadata": {},
   "outputs": [],
   "source": [
    "def calculate_epsilon(steps_done):\n",
    "    epsilon = egreedy_final + (egreedy - egreedy_final) * \\\n",
    "              math.exp(-1. * steps_done / egreedy_decay)\n",
    "    return epsilon"
   ]
  },
  {
   "cell_type": "code",
   "execution_count": 4,
   "id": "0138a193-fc5a-44d4-80c0-e059ed64ede3",
   "metadata": {},
   "outputs": [],
   "source": [
    "########### PARAMS ###########\n",
    "learning_rate = 0.01\n",
    "num_episodes = 500\n",
    "gamma = 0.99\n",
    "hidden_layer = 64\n",
    "replay_mem_size = 50000\n",
    "batch_size = 32\n",
    "\n",
    "egreedy = 0.9\n",
    "egreedy_final = 0.02\n",
    "egreedy_decay = 500\n",
    "\n",
    "score_to_solve = 195\n",
    "solved = False\n",
    "\n",
    "egreedy_total = []\n",
    "egreedy_prev_total = []\n",
    "steps_total = []"
   ]
  },
  {
   "cell_type": "code",
   "execution_count": 5,
   "id": "a3fc6e08-e2f4-4e86-ab73-259960185056",
   "metadata": {},
   "outputs": [],
   "source": [
    "number_of_inputs = env.observation_space.shape[0]\n",
    "number_of_outputs = env.action_space.n\n",
    "\n",
    "\n",
    "class ExperienceReplay():\n",
    "    def __init__(self, capacity):\n",
    "        self.capacity = capacity \n",
    "        self. memory = []\n",
    "        self.position = 0\n",
    "        \n",
    "    def push(self, state, action, new_state, reward, done):\n",
    "        transition = (state, action, new_state, reward, done)\n",
    "        if self.position >= len(self.memory):\n",
    "            self.memory.append(transition)\n",
    "        else:\n",
    "            self.memory.append(transition)\n",
    "        \n",
    "        self.position = (self.position + 1) % self.capacity\n",
    "        \n",
    "        \n",
    "    def sample(self, batch_size):\n",
    "        return zip(*random.sample(self.memory, batch_size))\n",
    "    \n",
    "    def __len__(self):\n",
    "        return len(self.memory)\n",
    "        \n",
    "class NeuralNetwork(nn.Module):\n",
    "    def __init__(self):\n",
    "        super(NeuralNetwork, self).__init__()\n",
    "        self.linear1 = nn.Linear(number_of_inputs, hidden_layer)\n",
    "        self.linear2 = nn.Linear(hidden_layer, number_of_outputs)\n",
    "        self.activation = nn.Tanh()\n",
    "        self.dropout = torch.nn.Dropout(p=0.5, inplace=False)\n",
    "\n",
    "    def forward(self, x):\n",
    "        output_1 = self.linear1(x)\n",
    "        output_2 = self.activation(output_1)\n",
    "        output_3  = self.linear2(output_2)\n",
    "        return output_3\n",
    "\n",
    "class QNet_Agent():\n",
    "    def __init__(self):\n",
    "        self.nn = NeuralNetwork().to(device)\n",
    "        \n",
    "        # Define loss function\n",
    "        self.loss_func = nn.MSELoss()\n",
    "        # loss_func = nn.SmoothL1Loss()\n",
    "\n",
    "        # Define optimizer\n",
    "        self.optimizer = optim.Adam(params=self.nn.parameters(), lr=learning_rate)\n",
    "        \n",
    "    def select_action(self, state, epsilon):\n",
    "        random_for_egreedy = torch.rand(1)[0]\n",
    "        \n",
    "        if random_for_egreedy > epsilon:\n",
    "            with torch.no_grad():\n",
    "                state = torch.Tensor(state).to(device)\n",
    "                action_from_nn = self.nn(state)\n",
    "                action = torch.max(action_from_nn, 0)[1]\n",
    "                action = action.item()\n",
    "        else:\n",
    "            action = env.action_space.sample()\n",
    "        return action\n",
    "    \n",
    "    def optimize(self):\n",
    "        if (len(memory)) < batch_size:\n",
    "            return\n",
    "        \n",
    "        state, action, new_state, reward, done = memory.sample(batch_size)\n",
    "        \n",
    "        # Transform data to tensor\n",
    "        state = torch.Tensor(state).to(device)\n",
    "        new_state = torch.Tensor(new_state).to(device)\n",
    "        reward = torch.Tensor(reward).to(device)\n",
    "        action = torch.LongTensor(action).to(device)\n",
    "        done = torch.Tensor(done).to(device)\n",
    "\n",
    "        new_state_values = self.nn(new_state).detach()\n",
    "        max_new_state_values = torch.max(new_state_values, 1)[0]\n",
    "        target_value = reward + (1 - done) * gamma * max_new_state_values\n",
    "        predicted_value = self.nn(state).gather(1, action.unsqueeze(1)).squeeze(1)\n",
    "\n",
    "\n",
    "        loss = self.loss_func(predicted_value, target_value)\n",
    "        self.optimizer.zero_grad()\n",
    "        loss.backward()\n",
    "        self.optimizer.step()"
   ]
  },
  {
   "cell_type": "code",
   "execution_count": 6,
   "id": "5c839991-4671-4376-9650-d6bf74d9f2a7",
   "metadata": {},
   "outputs": [
    {
     "name": "stderr",
     "output_type": "stream",
     "text": [
      "  0%|                                                                                          | 0/500 [00:00<?, ?it/s]C:\\Users\\atavares\\AppData\\Local\\Temp\\ipykernel_21268\\1124171886.py:72: UserWarning: Creating a tensor from a list of numpy.ndarrays is extremely slow. Please consider converting the list to a single numpy.ndarray with numpy.array() before converting to a tensor. (Triggered internally at  C:\\cb\\pytorch_1000000000000\\work\\torch\\csrc\\utils\\tensor_new.cpp:204.)\n",
      "  state = torch.Tensor(state).to(device)\n",
      "  1%|▋                                                                                 | 4/500 [00:00<00:13, 36.47it/s]"
     ]
    },
    {
     "name": "stdout",
     "output_type": "stream",
     "text": [
      "\n",
      "**** Episode 0****\n",
      "\n",
      "Average Reward - last 10: 19.0\n",
      "\n",
      "Average Reward - last 100: 19.0\n",
      "\n",
      "Average Reward - total: 19.0\n",
      "\n",
      "Epsilon: 0.87;\n",
      "\n",
      "Elapsed time: 0.03 seconds;\n"
     ]
    },
    {
     "name": "stderr",
     "output_type": "stream",
     "text": [
      " 20%|████████████████▏                                                               | 101/500 [00:35<02:44,  2.42it/s]"
     ]
    },
    {
     "name": "stdout",
     "output_type": "stream",
     "text": [
      "\n",
      "**** Episode 100****\n",
      "\n",
      "Average Reward - last 10: 198.2\n",
      "\n",
      "Average Reward - last 100: 170.86\n",
      "\n",
      "Average Reward - total: 169.35643564356437\n",
      "\n",
      "Epsilon: 0.02;\n",
      "\n",
      "Elapsed time: 35.22 seconds;\n"
     ]
    },
    {
     "name": "stderr",
     "output_type": "stream",
     "text": [
      " 23%|██████████████████▌                                                             | 116/500 [00:41<02:15,  2.83it/s]"
     ]
    },
    {
     "name": "stdout",
     "output_type": "stream",
     "text": [
      "Solved after 115 episodes\n",
      "\n",
      "**** FINAL****\n",
      "Average reward 172.83620689655172\n",
      "Average reward (last 100 episodes) 195.13\n",
      "Solved after 200\n"
     ]
    },
    {
     "name": "stderr",
     "output_type": "stream",
     "text": [
      "\n"
     ]
    },
    {
     "data": {
      "text/plain": [
       "Text(0.5, 1.0, 'rewards')"
      ]
     },
     "execution_count": 6,
     "metadata": {},
     "output_type": "execute_result"
    },
    {
     "data": {
      "image/png": "[encoded data removed]",
      "text/plain": [
       "<Figure size 1200x500 with 1 Axes>"
      ]
     },
     "metadata": {},
     "output_type": "display_data"
    }
   ],
   "source": [
    "start = time.time()\n",
    "\n",
    "memory = ExperienceReplay(replay_mem_size) \n",
    "qnet_agent = QNet_Agent()\n",
    "steps_total = []\n",
    "frames_total = 0\n",
    "\n",
    "for i_episode in tqdm(range(num_episodes)):\n",
    "    if solved:\n",
    "        break\n",
    "    state = env.reset()\n",
    "    \n",
    "    step = 0\n",
    "    \n",
    "    while True:\n",
    "        step += 1\n",
    "        frames_total += 1\n",
    "        \n",
    "        epsilon = calculate_epsilon(frames_total)\n",
    "        \n",
    "        action = qnet_agent.select_action(state, epsilon)\n",
    "        \n",
    "        new_state, reward, done, info = env.step(action)\n",
    "        memory.push(state, action, new_state, reward, done)\n",
    "        qnet_agent.optimize()\n",
    "        \n",
    "        state = new_state\n",
    "        if done:\n",
    "            steps_total.append(step)\n",
    "            mean_reward_100 = np.mean(steps_total[-100:])\n",
    "            if mean_reward_100 > score_to_solve:\n",
    "                print(f'Solved after {i_episode} episodes')\n",
    "                solved_after = step\n",
    "                solved = True\n",
    "            break\n",
    "    \n",
    "    if i_episode % 100 == 0:\n",
    "        print(f'\\n**** Episode {i_episode}****')\n",
    "        print(f'\\nAverage Reward - last 10: {np.mean(steps_total[-10:])}')\n",
    "        print(f'\\nAverage Reward - last 100: {np.mean(steps_total[-100:])}')\n",
    "        print(f'\\nAverage Reward - total: {np.mean(steps_total)}')\n",
    "        print(f'\\nEpsilon: {epsilon:.2f};')\n",
    "        print(f'\\nElapsed time: {time.time() - start:.2f} seconds;')\n",
    "\n",
    "\n",
    "print(f'\\n**** FINAL****')\n",
    "print(f'Average reward {np.mean(steps_total)}')\n",
    "print(f'Average reward (last 100 episodes) {np.mean(steps_total[-100:])}')\n",
    "if solved:\n",
    "    print(f'Solved after {solved_after}')\n",
    "\n",
    "fig, axis = plt.subplots(1, 1, figsize=(12, 5))\n",
    "axis.bar(np.arange(len(steps_total)), steps_total, alpha=0.6, color='green')\n",
    "axis.set_title('rewards')\n",
    "# axis[1].bar(np.arange(len(agent_1.steps)), agent_1.steps, alpha=0.6, color='red')\n",
    "# axis[1].set_title('steps')\n",
    "# plt.plot(steps_total, color='red')"
   ]
  }
 ],
 "metadata": {
  "kernelspec": {
   "display_name": "Python 3 (ipykernel)",
   "language": "python",
   "name": "python3"
  },
  "language_info": {
   "codemirror_mode": {
    "name": "ipython",
    "version": 3
   },
   "file_extension": ".py",
   "mimetype": "text/x-python",
   "name": "python",
   "nbconvert_exporter": "python",
   "pygments_lexer": "ipython3",
   "version": "3.10.4"
  }
 },
 "nbformat": 4,
 "nbformat_minor": 5
}
